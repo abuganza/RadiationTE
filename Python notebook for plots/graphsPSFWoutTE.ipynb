{
 "cells": [
  {
   "cell_type": "code",
   "execution_count": 1,
   "id": "efe69cf7",
   "metadata": {},
   "outputs": [
    {
     "name": "stdout",
     "output_type": "stream",
     "text": [
      "1.02248222\n",
      "0.00727\n"
     ]
    }
   ],
   "source": [
    "# !pip install xlrd\n",
    "# !pip install openpyxl\n",
    "# !pip install opencv-python\n",
    "import numpy as np\n",
    "import matplotlib.pyplot as plt\n",
    "import pandas as pd\n",
    "import xlrd\n",
    " \n",
    "loc = (r\"SummOffX.xlsx\")\n",
    "# /Users/lnunezal/Desktop\n",
    " \n",
    "wb = pd.read_excel(loc,sheet_name='GRAPHS2',header=0)\n",
    "TlamX=wb[\"TlamX\"]\n",
    "TstressX=wb[\"TstressX\"]\n",
    "GlowX=wb[\"GlowX\"]\n",
    "GhighX=wb[\"GhighX\"]\n",
    "TlamY=wb[\"TlamY\"]\n",
    "TstressY=wb[\"TstressY\"]\n",
    "GlowY=wb[\"GlowY\"]\n",
    "GhighY=wb[\"GhighY\"]\n",
    "#print(type(wb))\n",
    "#print(wb)\n",
    "print(TlamX.loc[0])\n",
    "print(TstressX.loc[0])\n",
    "\n",
    "# wb=pd.read_csv('GRAPHS.csv',*, sep=' ')\n",
    "# print(wb.TlamX)"
   ]
  },
  {
   "cell_type": "code",
   "execution_count": 6,
   "id": "7f818883",
   "metadata": {},
   "outputs": [
    {
     "name": "stdout",
     "output_type": "stream",
     "text": [
      "1.0241491\n"
     ]
    }
   ],
   "source": [
    "GlowX=wb[\"GlowX\"]\n",
    "GlowY=wb[\"GlowY\"]\n",
    "GhighX=wb[\"GhighX\"]\n",
    "GhighY=wb[\"GhighY\"]\n",
    "TlamX=wb[\"TlamX\"]\n",
    "TlamY=wb[\"TlamY\"]\n",
    "TstressX=wb[\"TstressX\"]\n",
    "TstressY=wb[\"TstressY\"]\n",
    "\n",
    "print(TlamX.loc[20])"
   ]
  },
  {
   "cell_type": "code",
   "execution_count": 7,
   "id": "33e6edaf",
   "metadata": {},
   "outputs": [],
   "source": [
    "def barplot_annotate_brackets(num1, num2, data, center, height, yerr=None, dh=.05, barh=.05, fs=None, maxasterix=None):\n",
    "    \"\"\" \n",
    "    Annotate barplot with p-values.\n",
    "\n",
    "    :param num1: number of left bar to put bracket over\n",
    "    :param num2: number of right bar to put bracket over\n",
    "    :param data: string to write or number for generating asterixes\n",
    "    :param center: centers of all bars (like plt.bar() input)\n",
    "    :param height: heights of all bars (like plt.bar() input)\n",
    "    :param yerr: yerrs of all bars (like plt.bar() input)\n",
    "    :param dh: height offset over bar / bar + yerr in axes coordinates (0 to 1)\n",
    "    :param barh: bar height in axes coordinates (0 to 1)\n",
    "    :param fs: font size\n",
    "    :param maxasterix: maximum number of asterixes to write (for very small p-values)\n",
    "    \"\"\"\n",
    "\n",
    "    if type(data) is str:\n",
    "        text = data\n",
    "    else:\n",
    "        # * is p < 0.05\n",
    "        # ** is p < 0.005\n",
    "        # *** is p < 0.0005\n",
    "        # etc.\n",
    "        text = ''\n",
    "        p = .05\n",
    "\n",
    "        while data < p:\n",
    "            text += '*'\n",
    "            p /= 10.\n",
    "\n",
    "            if maxasterix and len(text) == maxasterix:\n",
    "                break\n",
    "\n",
    "        if len(text) == 0:\n",
    "            text = 'n. s.'\n",
    "\n",
    "    lx, ly = center[num1], height[num1]\n",
    "    rx, ry = center[num2], height[num2]\n",
    "\n",
    "    if yerr:\n",
    "        ly += yerr[num1]\n",
    "        ry += yerr[num2]\n",
    "\n",
    "    ax_y0, ax_y1 = plt.gca().get_ylim()\n",
    "    dh *= (ax_y1 - ax_y0)\n",
    "    barh *= (ax_y1 - ax_y0)\n",
    "\n",
    "    y = max(ly, ry) + dh\n",
    "\n",
    "    barx = [lx, lx, rx, rx]\n",
    "    bary = [y, y+barh, y+barh, y]\n",
    "    mid = ((lx+rx)/2, y+barh)\n",
    "\n",
    "    plt.plot(barx, bary, c='black')\n",
    "\n",
    "    kwargs = dict(ha='center', va='bottom')\n",
    "    if fs is not None:\n",
    "        kwargs['fontsize'] = fs\n",
    "\n",
    "    plt.text(*mid, text, **kwargs)"
   ]
  },
  {
   "cell_type": "code",
   "execution_count": 13,
   "id": "9384a2c2",
   "metadata": {},
   "outputs": [
    {
     "data": {
      "image/png": "[encoded data removed]",
      "text/plain": [
       "<Figure size 648x648 with 4 Axes>"
      ]
     },
     "metadata": {
      "needs_background": "light"
     },
     "output_type": "display_data"
    }
   ],
   "source": [
    "\n",
    "    \n",
    "# set width of bar\n",
    "# fig,axx = plt.subplots(2,2,figsize =(12, 15))\n",
    "\n",
    "import string\n",
    "\n",
    "# set width of bar\n",
    "barWidth = 0.20\n",
    "fig,axx = plt.subplots(2,2,figsize =(9,9))\n",
    " \n",
    "# set height of bar\n",
    "##Glow mean and error\n",
    "\n",
    "# S\n",
    "spacebars=0.25\n",
    "\n",
    "# Set position of bar on X axis\n",
    "br11 = np.arange(len(CTRLglX))\n",
    "br22 = [x + spacebars for x in br11]\n",
    "br33 = [x + spacebars for x in br22]\n",
    "# br44 = [x + barWidth for x in br33]\n",
    " \n",
    "# Make the plot\n",
    "PP11=axx[0,0].bar(br11, CTRLglX, color ='1', width = barWidth, edgecolor ='0',\n",
    "                yerr = ([0,0],CTRLeglX),capsize=4,ecolor='0', label ='CTRL')\n",
    "PP12=axx[0,0].bar(br22, APEXglx, color ='0.5', width = barWidth, edgecolor ='0',\n",
    "                yerr = ([0,0],APEXeglX),capsize=4,ecolor='0', label ='XR')\n",
    "# PP13=axx[0,0].bar(br33, TEglX, color ='b', width = barWidth, edgecolor ='0',\n",
    "#                yerr = ([0,0],TEeglX),capsize=4,ecolor='0', label ='TE')\n",
    "PP14=axx[0,0].bar(br33, XRTEglX, color ='0', width = barWidth, edgecolor ='0',\n",
    "                yerr = ([0,0],XRTEeglX),capsize=4,ecolor='0', label ='XRTE')\n",
    "\n",
    "# barplot_annotate_brackets(0, 1, .1, bars, heights)\n",
    "# barplot_annotate_brackets(1, 2, .001, bars, heights)\n",
    "# barplot_annotate_brackets(0, 2, 'p < 0.0075', bars, heights, dh=.2)\n",
    "\n",
    "PP21=axx[0,1].bar(br11, CTRLTs2, color ='1', width = barWidth, edgecolor ='0',\n",
    "                yerr = ([0,0],CTRLeghX),capsize=4,ecolor='0',label ='CTRL')\n",
    "pp22=axx[0,1].bar(br22, XRTs2, color ='0.5', width = barWidth, edgecolor ='0', \n",
    "                yerr = ([0,0],XReghX),capsize=4,ecolor='0',label ='XR')\n",
    "# pp23=axx[0,1].bar(br33, TEghX, color ='b', width = barWidth, edgecolor ='0',\n",
    "#                yerr = ([0,0],TEeghX),capsize=4,ecolor='0',label ='TE')\n",
    "pp24=axx[0,1].bar(br33, XRTEghX, color ='0', width = barWidth, edgecolor ='0',\n",
    "                yerr = ([0,0],XRTEeghX),capsize=4,ecolor='0',label ='XRTE')\n",
    "\n",
    "PP31=axx[1,0].bar(br11, CTRLTlX, color ='1', width = barWidth,edgecolor ='0',\n",
    "                yerr = ([0,0],CTRLeTlX),capsize=4,ecolor='0',label ='CTRL')\n",
    "pp32=axx[1,0].bar(br22, XRTlX, color ='0.5', width = barWidth,edgecolor ='0',\n",
    "                yerr = ([0,0],XReTlX),capsize=4,ecolor='0',label ='XR')\n",
    "# pp33=axx[1,0].bar(br33, TETlX, color ='b', width = barWidth, edgecolor ='0',\n",
    "#                yerr = ([0,0],TEeTlX),capsize=4,ecolor='0',label ='TE')\n",
    "pp34=axx[1,0].bar(br33, XRTETlX, color ='0', width = barWidth, edgecolor ='0',\n",
    "                yerr = ([0,0],XRTEeTlX),capsize=4,ecolor='0',label ='XRTE')\n",
    "\n",
    "PP41=axx[1,1].bar(br11, CTRLTs, color ='1', width = barWidth, edgecolor ='0',\n",
    "                yerr = ([0,0],CTRLeTs),capsize=4,ecolor='0',label ='CTRL')\n",
    "pp42=axx[1,1].bar(br22, XRTs, color ='0.5', width = barWidth, edgecolor ='0',\n",
    "                yerr = ([0,0],XReTs),capsize=4,ecolor='0',label ='XR')\n",
    "# pp43=axx[1,1].bar(br33, TETs, color ='b', width = barWidth, edgecolor ='0',\n",
    "#                yerr = ([0,0],TEeTs),capsize=4,ecolor='0',label ='TE')\n",
    "pp44=axx[1,1].bar(br33, XRTETs, color ='0', width = barWidth, edgecolor ='0',\n",
    "                yerr = ([0,0],XRTEeTs),capsize=4,ecolor='0',label ='XRTE')\n",
    "\n",
    "# Eliminate borders\n",
    "for i in [0,1]:\n",
    "    for j in [0,1]:\n",
    "        axx[i,j].spines['right'].set_visible(False)\n",
    "        axx[i,j].spines['top'].set_visible(False)\n",
    "        #axx[0,j].get_xaxis().set_visible(False)\n",
    "        axx[i,j].set_xticks([0.20, 1.20],['Anterior-posterior', 'Dorsal-ventral'], fontsize=10)\n",
    "\n",
    "#axx[0,1].set_xticks([0.20, 1.20], ['2015', '2016'])\n",
    "\n",
    "\n",
    "# Adding Xticks\n",
    "axx[0,0].set_ylabel('Low Modulus', fontsize = 15)\n",
    "axx[0,1].set_ylabel('High Modulus', fontsize = 15)\n",
    "axx[1,0].set_ylabel('T stretch', fontsize = 15)\n",
    "axx[1,0].set_ylim(1.000,1.055)\n",
    "axx[1,1].set_ylabel('T stress [Mpa]', fontsize = 15)\n",
    "\n",
    "axx[0,0].text(-0.48, 4.8, 'A', fontsize=16, fontweight='bold', \n",
    "             va='top', ha='right')\n",
    "axx[0,1].text(-0.37, 50.8, 'B', fontsize=16, fontweight='bold', \n",
    "             va='top', ha='right')\n",
    "axx[1,0].text(-0.48, 1.061, 'C', fontsize=16, fontweight='bold', \n",
    "             va='top', ha='right')\n",
    "axx[1,1].text(-0.48, 0.0495, 'D', fontsize=16, fontweight='bold', \n",
    "             va='top', ha='right')\n",
    "\n",
    "axx[0,0].legend()\n",
    "fig.tight_layout(pad=3.0)\n",
    "# plt.savefig(\"TransParam2_WTE2.png\",dpi=300)\n",
    "\n",
    "\n",
    "plt.show()\n"
   ]
  },
  {
   "cell_type": "code",
   "execution_count": 10,
   "id": "94cc95ea",
   "metadata": {},
   "outputs": [
    {
     "data": {
      "image/png": "[encoded data removed]",
      "text/plain": [
       "<Figure size 216x216 with 1 Axes>"
      ]
     },
     "metadata": {
      "needs_background": "light"
     },
     "output_type": "display_data"
    }
   ],
   "source": [
    "barWidth1 = 0.050\n",
    "locspace1=0.06\n",
    "\n",
    "br1 = [0]\n",
    "# np.arange(len(CTRLglX))\n",
    "br2 = [x + locspace1 for x in br1]\n",
    "br3 = [x + locspace1 for x in br2]\n",
    "br4 = [x + locspace1 for x in br3]\n",
    "\n",
    "fig,axx = plt.subplots(1,1,figsize = (3, 3), \n",
    "                      constrained_layout=True\n",
    "                     )\n",
    "\n",
    "plt.bar(br1, [CTRLTlX[0]], color ='1', width = barWidth1,edgecolor ='0',\n",
    "                yerr = ([0],[CTRLeTlX[0]]),capsize=8,ecolor='0',label ='CTRL')\n",
    "plt.bar(br2, [XRTlX[0]], color ='1', width = barWidth1,edgecolor ='0',\n",
    "                yerr = ([0],[XReTlX[0]]),capsize=8,ecolor='0',label ='XR')\n",
    "plt.bar(br3, [XRTETlX[0]], color ='1', width = barWidth1, edgecolor ='0',\n",
    "                yerr = ([0],[XRTEeTlX[0]]),capsize=8,ecolor='0',label ='XRTE')\n",
    "\n",
    "axx = plt.gca()\n",
    "# ax.legend(loc=1, fontsize=12)\n",
    "axx.spines['right'].set_visible(False)\n",
    "axx.spines['top'].set_visible(False)\n",
    "# ax.get_xaxis().set_visible(False)\n",
    "axx.set_ylim(1.000,1.04)\n",
    "axx.set_xticks([br1[0],br2[0],br3[0]],['CTRL','XR','XRTE'], fontsize=10)\n",
    "axx.set_ylabel('Transition Stretch', fontsize = 15)\n",
    "\n",
    "plt.savefig(\"TstretchAntPost.png\",dpi=300)\n",
    "\n"
   ]
  },
  {
   "cell_type": "code",
   "execution_count": 11,
   "id": "843c2a4c",
   "metadata": {},
   "outputs": [
    {
     "data": {
      "text/plain": [
       "[0.15424207, 0.20105465]"
      ]
     },
     "execution_count": 11,
     "metadata": {},
     "output_type": "execute_result"
    }
   ],
   "source": [
    "CTRLglX"
   ]
  },
  {
   "cell_type": "code",
   "execution_count": null,
   "id": "a4c070c7",
   "metadata": {},
   "outputs": [],
   "source": [
    "CTRLTlX[0]"
   ]
  },
  {
   "cell_type": "code",
   "execution_count": null,
   "id": "0fafe73a",
   "metadata": {},
   "outputs": [],
   "source": [
    "CTRLTlX"
   ]
  },
  {
   "cell_type": "code",
   "execution_count": null,
   "id": "a2c840f6",
   "metadata": {},
   "outputs": [],
   "source": [
    "CTRLeTlX"
   ]
  },
  {
   "cell_type": "code",
   "execution_count": null,
   "id": "5476f4ac",
   "metadata": {},
   "outputs": [],
   "source": []
  }
 ],
 "metadata": {
  "kernelspec": {
   "display_name": "Python 3.9.12 ('base')",
   "language": "python",
   "name": "python3"
  },
  "language_info": {
   "codemirror_mode": {
    "name": "ipython",
    "version": 3
   },
   "file_extension": ".py",
   "mimetype": "text/x-python",
   "name": "python",
   "nbconvert_exporter": "python",
   "pygments_lexer": "ipython3",
   "version": "3.9.12"
  },
  "vscode": {
   "interpreter": {
    "hash": "ec2ab833d2e8db0d388733b4fdde26c56ae61b8db85b1e352ea3f3dad397d48f"
   }
  }
 },
 "nbformat": 4,
 "nbformat_minor": 5
}
